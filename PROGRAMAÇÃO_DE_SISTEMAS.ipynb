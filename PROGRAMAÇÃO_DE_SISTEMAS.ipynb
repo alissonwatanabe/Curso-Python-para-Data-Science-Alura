{
  "nbformat": 4,
  "nbformat_minor": 0,
  "metadata": {
    "colab": {
      "provenance": [],
      "authorship_tag": "ABX9TyMalr1zgrfGpAGHM/1vy+Hg",
      "include_colab_link": true
    },
    "kernelspec": {
      "name": "python3",
      "display_name": "Python 3"
    },
    "language_info": {
      "name": "python"
    }
  },
  "cells": [
    {
      "cell_type": "markdown",
      "metadata": {
        "id": "view-in-github",
        "colab_type": "text"
      },
      "source": [
        "<a href=\"https://colab.research.google.com/github/alissonwatanabe/Curso-Python-para-Data-Science-Alura/blob/main/PROGRAMA%C3%87%C3%83O_DE_SISTEMAS.ipynb\" target=\"_parent\"><img src=\"https://colab.research.google.com/assets/colab-badge.svg\" alt=\"Open In Colab\"/></a>"
      ]
    },
    {
      "cell_type": "markdown",
      "source": [
        "**QUESTÃO 1** Escreva um programa que preencha um vetor de dez posições. Em seguida, apresente somente os números positivos armazenados no vetor."
      ],
      "metadata": {
        "id": "6pWpewPF3UcM"
      }
    },
    {
      "cell_type": "code",
      "source": [
        "from random import randrange\n",
        "\n",
        "n=[]\n",
        "a=[]\n",
        "for i in range(10):\n",
        "  n.append(randrange(-10, 10))\n",
        "\n",
        "print(\"MATRIZ ORIGINAL: \",n)\n",
        "\n",
        "for i in range(10):\n",
        "  if n[i] > 0:\n",
        "    a.append(n[i])\n",
        "\n",
        "print(\"\\nMATRIZ COM NUMEROS POSITIVOS: \",a)\n"
      ],
      "metadata": {
        "colab": {
          "base_uri": "https://localhost:8080/"
        },
        "id": "REreHBq83Xvd",
        "outputId": "d1e16d6a-25d1-4bdb-c1ba-899c4a61b428"
      },
      "execution_count": 88,
      "outputs": [
        {
          "output_type": "stream",
          "name": "stdout",
          "text": [
            "MATRIZ ORIGINAL:  [-4, -3, -10, -9, 0, -7, -2, 1, 3, 8]\n",
            "\n",
            "MATRIZ COM NUMEROS POSITIVOS:  [1, 3, 8]\n"
          ]
        }
      ]
    },
    {
      "cell_type": "markdown",
      "source": [
        "**QUESTÃO 2** Escreva um programa que preencha um vetor com dez números reais, calcule e mostre a quantidade de números negativos e a soma dos números positivos desse vetor.\n",
        "\n",
        "---\n",
        "\n"
      ],
      "metadata": {
        "id": "Jkw2FvCJ3ZH8"
      }
    },
    {
      "cell_type": "code",
      "source": [
        "from random import randrange\n",
        "\n",
        "n=[]\n",
        "a=[]\n",
        "\n",
        "cont = 0\n",
        "\n",
        "for i in range(10):\n",
        "  n.append(randrange(-10, 10))\n",
        "\n",
        "print(\"MATRIZ ORIGINAL: \",n)\n",
        "\n",
        "for i in range(10):\n",
        "  if n[i] < 0:\n",
        "    cont += 1\n",
        "\n",
        "print(\"\\nQUANTIDADE DE NÚMEROS NEGATIVOS NA MATRIZ: \",cont)\n",
        "\n",
        "for i in range(10):\n",
        "  if n[i] > 0:\n",
        "    a.append(n[i])    \n",
        "\n",
        "print(\"\\nSOMA DOS NÚMERO POSITIVOS DA MATRIZ: \",sum(a))"
      ],
      "metadata": {
        "colab": {
          "base_uri": "https://localhost:8080/"
        },
        "id": "BdjOrtdr3gX8",
        "outputId": "3edab236-89a3-46db-c332-418d36fe1caf"
      },
      "execution_count": 89,
      "outputs": [
        {
          "output_type": "stream",
          "name": "stdout",
          "text": [
            "MATRIZ ORIGINAL:  [8, -2, 5, -10, -3, 7, -1, -1, 1, -10]\n",
            "\n",
            "QUANTIDADE DE NÚMEROS NEGATIVOS NA MATRIZ:  6\n",
            "\n",
            "SOMA DOS NÚMERO POSITIVOS DA MATRIZ:  21\n"
          ]
        }
      ]
    },
    {
      "cell_type": "markdown",
      "source": [
        "**QUESTÃO 4**\n",
        "Escreva um programa que preencha um vetor de trinta posições com números inteiros. Depois\n",
        "do preenchimento, realize a divisão do número da posição i pelo maior número armazenado no\n",
        "vetor. O resultado da divisão deve substituir o número armazenado na posição i. Repita a\n",
        "divisão para os i números armazenados no vetor. Por fim, apresente o vetor atualizado.\n"
      ],
      "metadata": {
        "id": "qCsb9VS4zd91"
      }
    },
    {
      "cell_type": "code",
      "execution_count": null,
      "metadata": {
        "id": "oog6YMvd8WHO",
        "colab": {
          "base_uri": "https://localhost:8080/"
        },
        "outputId": "d495937e-d8b9-4f7c-fa1f-a992bb9230d5"
      },
      "outputs": [
        {
          "output_type": "stream",
          "name": "stdout",
          "text": [
            "VETOR DE TRINTA POSIÇÕES:  [732, 705, 416, 32, 210, 23, 868, 557, 601, 944, 406, 566, 227, 790, 213, 329, 507, 979, 932, 657, 836, 800, 823, 557, 322, 656, 142, 957, 567, 914]\n",
            "MAIOR VALOR DO VETOR:  979\n",
            "VETOR RESULTANTE:   [0.7477017364657814, 0.7201225740551583, 0.424923391215526, 0.03268641470888662, 0.21450459652706844, 0.02349336057201226, 0.8866189989785496, 0.5689479060265578, 0.6138917262512769, 0.9642492339121552, 0.41470888661899896, 0.5781409601634321, 0.23186925434116445, 0.8069458631256384, 0.21756894790602654, 0.33605720122574056, 0.5178753830439223, 1.0, 0.9519918283963228, 0.6710929519918284, 0.8539325842696629, 0.8171603677221655, 0.8406537282941777, 0.5689479060265578, 0.3289070480081716, 0.6700715015321757, 0.14504596527068436, 0.9775280898876404, 0.5791624106230848, 0.933605720122574]\n"
          ]
        }
      ],
      "source": [
        "from random import randrange\n",
        "\n",
        "n=[]\n",
        "for numero in range(1,31):\n",
        "  n.append(randrange(0,1000))\n",
        "  maior = max(n)\n",
        "\n",
        "print(f'VETOR DE TRINTA POSIÇÕES: ', n)\n",
        "print(f'MAIOR VALOR DO VETOR: ',maior)\n",
        "\n",
        "vetor_att=[]\n",
        "for i in n:\n",
        "  vetor_att.append(i/maior)\n",
        "\n",
        "print(f'VETOR RESULTANTE:  ',vetor_att)"
      ]
    },
    {
      "cell_type": "markdown",
      "source": [
        "**QUESTÃO 6**\n",
        "Escreva um programa que dada uma matriz qualquer (o usuário deve informar o número de\n",
        "linhas e o número de colunas), retorne o número de linhas nulas da matriz. Uma linha nula é\n",
        "uma linha que possui apenas valores zeros."
      ],
      "metadata": {
        "id": "-RbPVWVazxml"
      }
    },
    {
      "cell_type": "code",
      "source": [
        "import numpy as np\n",
        "import random\n",
        "\n",
        "l = int(input(\"Digite o número de linhas da matriz : \"))\n",
        "c = int(input(\"\\nDigite o número de colunas da matriz : \"))\n",
        "\n",
        "array = np.random.randint(2, size=(l, c)) \n",
        "\n",
        "for i in range(l):\n",
        "    if np.all(array[i] == 0):\n",
        "      print(\"\\nA linha {} é nula nula \".format(i+1))\n",
        "  \n",
        "    else:\n",
        "      print(\"A linha {} mão é nula\" .format(i+1))\n",
        "  \n",
        "print(\"\\n MATRIZ\")\n",
        "print(array)\n"
      ],
      "metadata": {
        "id": "U4zcuwL83YQ7",
        "colab": {
          "base_uri": "https://localhost:8080/"
        },
        "outputId": "f6a4a6c8-d3aa-4af5-aa16-018d644496dd"
      },
      "execution_count": null,
      "outputs": [
        {
          "output_type": "stream",
          "name": "stdout",
          "text": [
            "Digite o número de linhas da matriz : 2\n",
            "\n",
            "Digite o número de colunas da matriz : 2\n",
            "\n",
            "A linha 1 é nula nula \n",
            "A linha 2 mão é nula\n",
            "\n",
            " MATRIZ\n",
            "[[0 0]\n",
            " [1 0]]\n"
          ]
        }
      ]
    },
    {
      "cell_type": "markdown",
      "source": [
        "**QUESTÃO 8**\n",
        "Elabore um programa que preencha uma matriz 5 X 5 e crie dois vetores de cinco posições\n",
        "cada um, que contenham, respectivamente, as somas das linhas e das colunas da matriz. O\n",
        "programa deverá escrever a matriz e os vetores criados."
      ],
      "metadata": {
        "id": "z7RNmgoGRDVs"
      }
    },
    {
      "cell_type": "code",
      "source": [
        "import numpy as np\n",
        "import random\n",
        "\n",
        "array = np.random.randint(100, size=(5, 5)) \n",
        "linha = []\n",
        "coluna = []\n",
        "\n",
        "print(\"MATRIZ\")\n",
        "print(array)\n",
        "\n",
        "print(\"\\nSOMA LINHAS\")\n",
        "linha = [(array[0,0] + array[0,1] +array[0,2] + array[0,3] + array[0,4]), (array[1,0] + array[1,1] +array[1,2] + array[1,3] + array[1,4]), (array[2,0] + array[1,1] +array[2,2] + array[2,3] + array[2,4]), (array[3,0] + array[3,1] +array[3,2] + array[3,3] + array[3,4]), (array[4,0] + array[4,1] +array[4,2] + array[4,3] + array[4,4])]\n",
        "print(linha)\n",
        "\n",
        "print(\"\\nSOMA COLUNAS\")\n",
        "coluna = [(array[0,0] + array[1,0] +array[2,0] + array[3,0] + array[4,0]), (array[0,1] + array[1,1] + array[2,1] + array[3,1] + array[4,1]), (array[0,2] + array[1,2] +array[2,2] + array[3,2] + array[4,2]), (array[0,3] + array[1,3] +array[2,3] + array[3,3] + array[4,3]), (array[0,4] + array[1,4] +array[2,4] + array[3,4] + array[4,4])]\n",
        "print(coluna)\n",
        "\n"
      ],
      "metadata": {
        "colab": {
          "base_uri": "https://localhost:8080/"
        },
        "id": "hcQ9MyEBRJwl",
        "outputId": "9b9c7a76-2467-4a71-edf2-ac447a2cf53a"
      },
      "execution_count": 91,
      "outputs": [
        {
          "output_type": "stream",
          "name": "stdout",
          "text": [
            "MATRIZ\n",
            "[[ 6 20 51 64 92]\n",
            " [94 95  5 22  1]\n",
            " [85 60 87 83 99]\n",
            " [44  6 42 56 90]\n",
            " [49 79  4 39  7]]\n",
            "\n",
            "SOMA LINHAS\n",
            "[233, 217, 449, 238, 178]\n",
            "\n",
            "SOMA COLUNAS\n",
            "[278, 260, 189, 264, 289]\n"
          ]
        }
      ]
    },
    {
      "cell_type": "markdown",
      "source": [
        "**QUESTÃO 10**\n",
        "Uma matriz esparsa é uma matriz que tem mais de 2/3 de seus elementos iguais a zero.\n",
        "Implemente um programa que leia uma matriz qualquer e informe se tal matriz é esparsa. É o\n",
        "usuário quem deve passar o número de linhas e o número de colunas da matriz."
      ],
      "metadata": {
        "id": "tE5knnhURujc"
      }
    },
    {
      "cell_type": "code",
      "source": [
        "import numpy as np\n",
        "import random\n",
        "\n",
        "l = int(input(\"Digite o número de linhas da matriz : \"))\n",
        "c = int(input(\"\\nDigite o número de colunas da matriz : \"))\n",
        "\n",
        "array = np.random.randint(2, size=(l, c)) \n",
        "\n",
        "contador = 0\n",
        "for i in range(l):\n",
        "   for j in range(c):\n",
        "     if array[i,j] == 0:\n",
        "       contador += 1\n",
        "\n",
        "print(\"MATRIZ\")\n",
        "print(array)\n",
        "print(\"\\nQuantidade de zeros na matriz = \", contador)\n",
        "\n",
        "n = l*c\n",
        "if contador > (2*n/3):\n",
        "  print(\"A matriz é esparsa\")\n",
        "else:\n",
        "  print(\"A matriz não é esparsa\")\n"
      ],
      "metadata": {
        "id": "i0OsGgpDR45U",
        "colab": {
          "base_uri": "https://localhost:8080/"
        },
        "outputId": "961c2548-cb1a-4575-b1ec-d4b1b1d9b390"
      },
      "execution_count": 92,
      "outputs": [
        {
          "output_type": "stream",
          "name": "stdout",
          "text": [
            "Digite o número de linhas da matriz : 2\n",
            "\n",
            "Digite o número de colunas da matriz : 2\n",
            "MATRIZ\n",
            "[[1 1]\n",
            " [0 1]]\n",
            "\n",
            "Quantidade de zeros na matriz =  1\n",
            "A matriz não é esparsa\n"
          ]
        }
      ]
    },
    {
      "cell_type": "markdown",
      "source": [
        "**QUESTÃO 12**\n",
        "A prefeitura de uma cidade realizou uma pesquisa para coletar informações sobre o salário, a\n",
        "idade e o número de filhos de sua população adulta. Tais informações compõem o registro\n",
        "habitante. Para auxiliar na pesquisa, implemente um programa que receba os dados de 12\n",
        "pessoas. Em seguida, os seguintes cálculos devem ser realizados e apresentados:\n",
        "\n",
        "**a)** A média de salário da população\n",
        "\n",
        "**b)** A média do número de filhos\n",
        "\n",
        "**c)** O maior salário recebido na cidade\n",
        "\n",
        "**d)** O menor salário recebido na cidade\n",
        "\n",
        "**e)** O percentual de homens com salário superior a R$ 1.000,00\n",
        "\n",
        "**f)** O percentual de mulheres com salário superior a R$ 1.000,00"
      ],
      "metadata": {
        "id": "9iA00ev8R5bK"
      }
    },
    {
      "cell_type": "code",
      "source": [
        "import pandas as pd\n",
        "import numpy as np\n",
        "\n",
        "salario = []\n",
        "idade = []\n",
        "filhos = []\n",
        "sexo = []\n",
        "conth = 0\n",
        "contm = 0\n",
        "conthomem = 0\n",
        "contmulher = 0\n",
        "r = 12\n",
        "\n",
        "for i in range(r):\n",
        "  a = int(input(\"\\n Pessoa {}, digite o salário: \" .format(i+1)))\n",
        "  salario.append(a)\n",
        "  b = int(input(\"\\n Pessoa {}, digite idade: \" .format(i+1)))\n",
        "  idade.append(b)\n",
        "  c = int(input(\"\\n Pessoa {}, digite o numero de filhos: \" .format(i+1)))\n",
        "  filhos.append(c) \n",
        "  d = input(\"\\n Pessoa {}, é homem? (S) ou (N): \" .format(i+1))\n",
        "  sexo.append(d) \n",
        "  if (sexo[i] == 's'):\n",
        "    conth += 1\n",
        "  elif (sexo[i] == 'n'):\n",
        "    contm += 1\n",
        "  if (salario[i] > 1000) and (sexo[i] == 's'):\n",
        "    conthomem += 1\n",
        "  elif (salario[i] > 1000) and (sexo[i] == 'n'):\n",
        "    contmulher += 1\n",
        "\n",
        "print(\"\\nSalários: \",salario)\n",
        "print(\"Idades: \",idade)\n",
        "print(\"Filhos: \",filhos)\n",
        "\n",
        "mediasalario = np.mean(salario)\n",
        "mediafilho = np.mean(filhos)\n",
        "print(\"\\na) Média de Salário: \",mediasalario)\n",
        "print(\"b) Média de Filhos: \",mediafilho)\n",
        "\n",
        "print(\"c) Maior Salário: \",max(salario))\n",
        "print(\"d) Menor Salário: \",min(salario))\n",
        "\n",
        "if conthomem > 0:\n",
        "  print(\"e) Porcentagem de Homens com salário maior que R$ 1000,00: {}%\".format(conth/conthomem*100))\n",
        "else:\n",
        "  print(\"e) Porcentagem de Homens com salário maior que R$ 1000,00: 0%\")\n",
        "\n",
        "if contmulher > 0:\n",
        "  print(\"f) Porcentagem de Mulheres com salário maior que R$ 1000,00: {}%\".format(contm/contmulher*100))\n",
        "else: \n",
        "  print(\"f) Porcentagem de Mulheres com salário maior que R$ 1000,00: 0%\")"
      ],
      "metadata": {
        "id": "pHQnfzvySZt6"
      },
      "execution_count": null,
      "outputs": []
    },
    {
      "cell_type": "markdown",
      "source": [
        "**QUESTÃO 14**\n",
        "Implemente um programa para criptografar uma frase fornecida pelo usuário. Na criptografia,\n",
        "as vogais da frase devem ser trocadas pelo caractere #.\n",
        "Exemplo:\n",
        "Frase: meu fusca preto\n",
        "Saída: m## f#sc# pr#t#"
      ],
      "metadata": {
        "id": "8X8ZyeRDSl_h"
      }
    },
    {
      "cell_type": "code",
      "source": [
        "frase = input(\"Escreva sua Frase: \")\n",
        "x = frase.upper()\n",
        "\n",
        "a = x.replace(\"A\", \"#\")\n",
        "e = a.replace(\"E\", \"#\")\n",
        "i = e.replace(\"I\", \"#\")\n",
        "o = i.replace(\"O\", \"#\")\n",
        "u = o.replace(\"U\", \"#\")\n",
        "\n",
        "print(u)"
      ],
      "metadata": {
        "id": "BxMRp445SpTZ",
        "colab": {
          "base_uri": "https://localhost:8080/"
        },
        "outputId": "cccb28c8-fafb-4d8d-8648-767b0164925d"
      },
      "execution_count": 86,
      "outputs": [
        {
          "output_type": "stream",
          "name": "stdout",
          "text": [
            "Escreva sua Frase: ABCDEFGHIJKLMNOPQRSTUVWXYZ\n",
            "#BCD#FGH#JKLMN#PQRST#VWXYZ\n"
          ]
        }
      ]
    },
    {
      "cell_type": "markdown",
      "source": [
        "**QUESTÃO 16**\n",
        "Implemente um programa que receba uma frase e faça a criptografia dela, substituindo as\n",
        "vogais pelos seguintes números: a = 1, e = 2, i = 3, o = 4 e u = 5."
      ],
      "metadata": {
        "id": "dmGtjeBtSqa5"
      }
    },
    {
      "cell_type": "code",
      "source": [
        "frase = input(\"Escreva sua Frase: \")\n",
        "x = frase.upper()\n",
        "\n",
        "a = x.replace(\"A\", \"1\")\n",
        "e = a.replace(\"E\", \"2\")\n",
        "i = e.replace(\"I\", \"3\")\n",
        "o = i.replace(\"O\", \"4\")\n",
        "u = o.replace(\"U\", \"5\")\n",
        "\n",
        "print(u)"
      ],
      "metadata": {
        "id": "6FYKWy54Svip",
        "colab": {
          "base_uri": "https://localhost:8080/"
        },
        "outputId": "0f764e34-7732-43e2-d24a-058fbe02b1ff"
      },
      "execution_count": 84,
      "outputs": [
        {
          "output_type": "stream",
          "name": "stdout",
          "text": [
            "Escreva sua Frase: ABCDEFGHIJKLMNOPQRSTUVWXYZ\n",
            "1BCD2FGH3JKLMN4PQRST5VWXYZ\n"
          ]
        }
      ]
    },
    {
      "cell_type": "markdown",
      "source": [
        "**QUESTÃO 18**\n",
        "Faça um programa que se comporte como vírus, duplicando cada uma das palavras digitadas\n",
        "pelo usuário.\n",
        "Exemplo:\n",
        "Frase: EU ESTOU NA ESCOLA\n",
        "Saída: EU EU ESTOU ESTOU NA NA ESCOLA ESCOLA"
      ],
      "metadata": {
        "id": "2g4aATF9SwS7"
      }
    },
    {
      "cell_type": "code",
      "source": [
        "a = input(\"Escreva a frase desejada: \")\n",
        "\n",
        "x = a.split()\n",
        "l = len(x)\n",
        "resultado = []\n",
        "\n",
        "for i in range(l):\n",
        "  dup = (x[i] + \" \" + x[i])\n",
        "  resultado.append(dup)\n",
        "   \n",
        "\n",
        "' '.join(resultado)\n",
        "\n",
        "\n",
        "\n",
        "\n",
        "  "
      ],
      "metadata": {
        "id": "XpMgvuEmS2Ba",
        "colab": {
          "base_uri": "https://localhost:8080/",
          "height": 53
        },
        "outputId": "de411f3e-5a8a-4f9a-b8df-3e297fe999a6"
      },
      "execution_count": 95,
      "outputs": [
        {
          "name": "stdout",
          "output_type": "stream",
          "text": [
            "Escreva a frase desejada: Os exemplos abaixo ilustram o tipo de dados string e as operações associadas a ele\n"
          ]
        },
        {
          "output_type": "execute_result",
          "data": {
            "text/plain": [
              "'Os Os exemplos exemplos abaixo abaixo ilustram ilustram o o tipo tipo de de dados dados string string e e as as operações operações associadas associadas a a ele ele'"
            ],
            "application/vnd.google.colaboratory.intrinsic+json": {
              "type": "string"
            }
          },
          "metadata": {},
          "execution_count": 95
        }
      ]
    }
  ]
}