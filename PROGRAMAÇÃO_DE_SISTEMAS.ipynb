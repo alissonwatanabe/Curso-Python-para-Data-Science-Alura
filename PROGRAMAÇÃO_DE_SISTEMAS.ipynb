{
  "nbformat": 4,
  "nbformat_minor": 0,
  "metadata": {
    "colab": {
      "provenance": [],
      "authorship_tag": "ABX9TyMdprF6xE0f+8aOlN780NXP",
      "include_colab_link": true
    },
    "kernelspec": {
      "name": "python3",
      "display_name": "Python 3"
    },
    "language_info": {
      "name": "python"
    }
  },
  "cells": [
    {
      "cell_type": "markdown",
      "metadata": {
        "id": "view-in-github",
        "colab_type": "text"
      },
      "source": [
        "<a href=\"https://colab.research.google.com/github/alissonwatanabe/Curso-Python-para-Data-Science-Alura/blob/main/PROGRAMA%C3%87%C3%83O_DE_SISTEMAS.ipynb\" target=\"_parent\"><img src=\"https://colab.research.google.com/assets/colab-badge.svg\" alt=\"Open In Colab\"/></a>"
      ]
    },
    {
      "cell_type": "markdown",
      "source": [
        "**QUESTÃO 4**\n",
        "Escreva um programa que preencha um vetor de trinta posições com números inteiros. Depois\n",
        "do preenchimento, realize a divisão do número da posição i pelo maior número armazenado no\n",
        "vetor. O resultado da divisão deve substituir o número armazenado na posição i. Repita a\n",
        "divisão para os i números armazenados no vetor. Por fim, apresente o vetor atualizado.\n"
      ],
      "metadata": {
        "id": "qCsb9VS4zd91"
      }
    },
    {
      "cell_type": "code",
      "execution_count": 290,
      "metadata": {
        "colab": {
          "base_uri": "https://localhost:8080/"
        },
        "id": "oog6YMvd8WHO",
        "outputId": "cdb09ba7-e66b-4963-a809-a8b84c392e51"
      },
      "outputs": [
        {
          "output_type": "stream",
          "name": "stdout",
          "text": [
            "VETOR DE TRINTA POSIÇÕES:  [674, 610, 144, 410, 145, 318, 743, 756, 113, 726, 421, 439, 365, 407, 20, 3, 235, 780, 167, 922, 728, 548, 698, 776, 699, 139, 90, 832, 361, 155]\n",
            "MAIOR VALOR DO VETOR:  922\n",
            "VETOR RESULTANTE:   [0.7310195227765727, 0.6616052060737527, 0.1561822125813449, 0.44468546637744033, 0.15726681127982647, 0.34490238611713664, 0.8058568329718004, 0.8199566160520607, 0.12255965292841649, 0.7874186550976139, 0.4566160520607375, 0.4761388286334056, 0.3958785249457701, 0.44143167028199565, 0.021691973969631236, 0.0032537960954446853, 0.25488069414316705, 0.8459869848156182, 0.18112798264642083, 1.0, 0.789587852494577, 0.5943600867678959, 0.7570498915401301, 0.841648590021692, 0.7581344902386117, 0.15075921908893708, 0.09761388286334056, 0.9023861171366594, 0.3915401301518438, 0.1681127982646421]\n"
          ]
        }
      ],
      "source": [
        "from random import randrange\n",
        "\n",
        "n=[]\n",
        "for numero in range(1,31):\n",
        "  n.append(randrange(0,1000))\n",
        "  maior = max(n)\n",
        "\n",
        "print(f'VETOR DE TRINTA POSIÇÕES: ', n)\n",
        "print(f'MAIOR VALOR DO VETOR: ',maior)\n",
        "\n",
        "vetor_att=[]\n",
        "for i in n:\n",
        "  vetor_att.append(i/maior)\n",
        "\n",
        "print(f'VETOR RESULTANTE:  ',vetor_att)"
      ]
    },
    {
      "cell_type": "markdown",
      "source": [
        "**QUESTÃO 6**\n",
        "Escreva um programa que dada uma matriz qualquer (o usuário deve informar o número de\n",
        "linhas e o número de colunas), retorne o número de linhas nulas da matriz. Uma linha nula é\n",
        "uma linha que possui apenas valores zeros."
      ],
      "metadata": {
        "id": "-RbPVWVazxml"
      }
    },
    {
      "cell_type": "code",
      "source": [
        "from random import randrange\n",
        "import numpy as np\n",
        "\n",
        "In[2]: np.zeros((4,4), dtype = np.float64)\n",
        "Out[2]: a([[ 0.,  0.,  0.,  0.],[ 0.,  0.,  0.,  0.],[ 0.,  0.,  0.,  0.],[ 0.,  0.,  0.,  0.]])"
      ],
      "metadata": {
        "colab": {
          "base_uri": "https://localhost:8080/",
          "height": 200
        },
        "id": "YnBJoLPszvGO",
        "outputId": "6e2b6ee0-f465-4bcb-df2d-861a311444e8"
      },
      "execution_count": 311,
      "outputs": [
        {
          "output_type": "error",
          "ename": "TypeError",
          "evalue": "ignored",
          "traceback": [
            "\u001b[0;31m---------------------------------------------------------------------------\u001b[0m",
            "\u001b[0;31mTypeError\u001b[0m                                 Traceback (most recent call last)",
            "\u001b[0;32m<ipython-input-311-c7d4976d123e>\u001b[0m in \u001b[0;36m<module>\u001b[0;34m\u001b[0m\n\u001b[1;32m      4\u001b[0m \u001b[0ma\u001b[0m\u001b[0;34m=\u001b[0m\u001b[0;34m[\u001b[0m\u001b[0;34m[\u001b[0m\u001b[0;34m]\u001b[0m\u001b[0;34m]\u001b[0m\u001b[0;34m\u001b[0m\u001b[0;34m\u001b[0m\u001b[0m\n\u001b[1;32m      5\u001b[0m \u001b[0mIn\u001b[0m\u001b[0;34m[\u001b[0m\u001b[0;36m2\u001b[0m\u001b[0;34m]\u001b[0m\u001b[0;34m:\u001b[0m \u001b[0mnp\u001b[0m\u001b[0;34m.\u001b[0m\u001b[0mzeros\u001b[0m\u001b[0;34m(\u001b[0m\u001b[0;34m(\u001b[0m\u001b[0;36m4\u001b[0m\u001b[0;34m,\u001b[0m\u001b[0;36m4\u001b[0m\u001b[0;34m)\u001b[0m\u001b[0;34m,\u001b[0m \u001b[0mdtype\u001b[0m \u001b[0;34m=\u001b[0m \u001b[0mnp\u001b[0m\u001b[0;34m.\u001b[0m\u001b[0mfloat64\u001b[0m\u001b[0;34m)\u001b[0m\u001b[0;34m\u001b[0m\u001b[0;34m\u001b[0m\u001b[0m\n\u001b[0;32m----> 6\u001b[0;31m \u001b[0mOut\u001b[0m\u001b[0;34m[\u001b[0m\u001b[0;36m2\u001b[0m\u001b[0;34m]\u001b[0m\u001b[0;34m:\u001b[0m \u001b[0ma\u001b[0m\u001b[0;34m(\u001b[0m\u001b[0;34m[\u001b[0m\u001b[0;34m[\u001b[0m \u001b[0;36m0.\u001b[0m\u001b[0;34m,\u001b[0m  \u001b[0;36m0.\u001b[0m\u001b[0;34m,\u001b[0m  \u001b[0;36m0.\u001b[0m\u001b[0;34m,\u001b[0m  \u001b[0;36m0.\u001b[0m\u001b[0;34m]\u001b[0m\u001b[0;34m,\u001b[0m\u001b[0;34m[\u001b[0m \u001b[0;36m0.\u001b[0m\u001b[0;34m,\u001b[0m  \u001b[0;36m0.\u001b[0m\u001b[0;34m,\u001b[0m  \u001b[0;36m0.\u001b[0m\u001b[0;34m,\u001b[0m  \u001b[0;36m0.\u001b[0m\u001b[0;34m]\u001b[0m\u001b[0;34m,\u001b[0m\u001b[0;34m[\u001b[0m \u001b[0;36m0.\u001b[0m\u001b[0;34m,\u001b[0m  \u001b[0;36m0.\u001b[0m\u001b[0;34m,\u001b[0m  \u001b[0;36m0.\u001b[0m\u001b[0;34m,\u001b[0m  \u001b[0;36m0.\u001b[0m\u001b[0;34m]\u001b[0m\u001b[0;34m,\u001b[0m\u001b[0;34m[\u001b[0m \u001b[0;36m0.\u001b[0m\u001b[0;34m,\u001b[0m  \u001b[0;36m0.\u001b[0m\u001b[0;34m,\u001b[0m  \u001b[0;36m0.\u001b[0m\u001b[0;34m,\u001b[0m  \u001b[0;36m0.\u001b[0m\u001b[0;34m]\u001b[0m\u001b[0;34m]\u001b[0m\u001b[0;34m)\u001b[0m\u001b[0;34m\u001b[0m\u001b[0;34m\u001b[0m\u001b[0m\n\u001b[0m",
            "\u001b[0;31mTypeError\u001b[0m: 'list' object is not callable"
          ]
        }
      ]
    }
  ]
}