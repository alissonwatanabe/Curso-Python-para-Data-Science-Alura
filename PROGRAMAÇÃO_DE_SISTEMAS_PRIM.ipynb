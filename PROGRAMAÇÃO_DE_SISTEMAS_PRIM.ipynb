{
  "nbformat": 4,
  "nbformat_minor": 0,
  "metadata": {
    "colab": {
      "provenance": [],
      "authorship_tag": "ABX9TyPrPaMcpSD+7jll4tTMVWyv",
      "include_colab_link": true
    },
    "kernelspec": {
      "name": "python3",
      "display_name": "Python 3"
    },
    "language_info": {
      "name": "python"
    }
  },
  "cells": [
    {
      "cell_type": "markdown",
      "metadata": {
        "id": "view-in-github",
        "colab_type": "text"
      },
      "source": [
        "<a href=\"https://colab.research.google.com/github/alissonwatanabe/Curso-Python-para-Data-Science-Alura/blob/main/PROGRAMA%C3%87%C3%83O_DE_SISTEMAS_PRIM.ipynb\" target=\"_parent\"><img src=\"https://colab.research.google.com/assets/colab-badge.svg\" alt=\"Open In Colab\"/></a>"
      ]
    },
    {
      "cell_type": "code",
      "execution_count": null,
      "metadata": {
        "id": "cdKB4yJDIpJM"
      },
      "outputs": [],
      "source": [
        "# Implementacao do algoritmo de Prim O(E log V) em Python\n",
        "# Note que a unica funcao que representa a implementacao do algoritmo eh a funcao prim(graph,Vi=0,edge=[],vis=[])\n",
        "# A funcao add_edge eh apenas auxiliar, e a funcao primDesconexo(graph) eh um adicional, e nao costuma sequer ser\n",
        "# implementada para o algoritmo de Prim (pois no caso de um grafo ser desconexo, Kruskal eh a solucao ideal).\n",
        "from heapq import heappop, heappush\n",
        "\n",
        "MAXV = 1000 # numero de vertices no grafo\n",
        "graph = [[] for x in range(MAXV)]\n",
        "def add_edge(v, u, w):\n",
        "    graph[v].append((u,w))\n",
        "    graph[u].append((v,w)) # considera que o grafo eh nao direcionado\n",
        "\n",
        "# Se o grafo for totalmente conectado, Vi pode receber qualquer vertice sem diferenca no peso total da arvore gerada\n",
        "# Se o grafo for desconexo, apenas a parte conectada a Vi tera sua arvore geradora minima calculada\n",
        "# O retorno eh uma lista de tuplas edge[v]=(w,u), que representa, para cada v, a aresta u->v com peso w, usada para\n",
        "# conectar a sub-arvore de v a sub-arvore de u na arvore geradora minima\n",
        "def prim(graph, Vi=0, edge=[], vis=[]):\n",
        "    # edge[v] = (pesoDaAresta(u->v), u)\n",
        "    # Se edge[] ou vis[] nao tiverem sido gerados ainda, geramos. Geralmente esta condicao nao existe, e ambas as listas\n",
        "    # sao geradas dentro do proprio prim; porem, para manter o primDesconexo em O(V + E log V), permitimos que sejam\n",
        "    # passadas pelos parametros da funcao.\n",
        "    if edge == []:\n",
        "        edge = [(-1,-1)] * len(graph)\n",
        "    if vis == []:\n",
        "        vis = [False] * len(graph)\n",
        "\n",
        "    edge[Vi] = (0,-1)\n",
        "    heap = [(0,Vi)]\n",
        "\n",
        "    while True:\n",
        "        v = -1\n",
        "        while len(heap) > 0 and (v < 0 or vis[v]):\n",
        "            v = heappop(heap)[1]\n",
        "\n",
        "        if v < 0 or edge[v][0] < 0:\n",
        "            break\n",
        "        vis[v] = True\n",
        "\n",
        "        for (u, w) in graph[v]:\n",
        "            if edge[u][0] < 0 or edge[u][0] > w:\n",
        "                edge[u] = (w, v)\n",
        "                heappush(heap, (edge[u][0],u))\n",
        "\n",
        "    return edge\n",
        "\n",
        "# Se o grafo for desconexo, pode-se usar:\n",
        "def primDesconexo(graph):\n",
        "    edge = [(-1,-1)] * len(graph)\n",
        "    vis = [False] * len(graph)\n",
        "    for i in xrange(len(graph)):\n",
        "        if edge[i][0] == -1:\n",
        "            prim(graph, i, edge, vis)\n",
        "    return edge"
      ]
    }
  ]
}