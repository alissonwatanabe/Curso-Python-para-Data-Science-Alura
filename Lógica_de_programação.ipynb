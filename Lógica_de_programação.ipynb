{
  "nbformat": 4,
  "nbformat_minor": 0,
  "metadata": {
    "colab": {
      "name": "Lógica de programação.ipynb",
      "provenance": [],
      "authorship_tag": "ABX9TyO3M1H9dyCGlkjxSuKP0Ftq",
      "include_colab_link": true
    },
    "kernelspec": {
      "name": "python3",
      "display_name": "Python 3"
    },
    "language_info": {
      "name": "python"
    }
  },
  "cells": [
    {
      "cell_type": "markdown",
      "metadata": {
        "id": "view-in-github",
        "colab_type": "text"
      },
      "source": [
        "<a href=\"https://colab.research.google.com/github/alissonwatanabe/Curso-Python-para-Data-Science-Alura/blob/main/L%C3%B3gica_de_programa%C3%A7%C3%A3o.ipynb\" target=\"_parent\"><img src=\"https://colab.research.google.com/assets/colab-badge.svg\" alt=\"Open In Colab\"/></a>"
      ]
    },
    {
      "cell_type": "markdown",
      "source": [
        "# Lógica de programação com Python"
      ],
      "metadata": {
        "id": "1xZ5SyglNugS"
      }
    },
    {
      "cell_type": "code",
      "source": [
        "nome = 'Alisson'"
      ],
      "metadata": {
        "id": "KlkzwYV3NllX"
      },
      "execution_count": 3,
      "outputs": []
    },
    {
      "cell_type": "code",
      "source": [
        "nome"
      ],
      "metadata": {
        "colab": {
          "base_uri": "https://localhost:8080/",
          "height": 35
        },
        "id": "y3qlpZ5jNyLT",
        "outputId": "24787968-9173-4e05-d145-249da993911c"
      },
      "execution_count": 4,
      "outputs": [
        {
          "output_type": "execute_result",
          "data": {
            "text/plain": [
              "'Alisson'"
            ],
            "application/vnd.google.colaboratory.intrinsic+json": {
              "type": "string"
            }
          },
          "metadata": {},
          "execution_count": 4
        }
      ]
    },
    {
      "cell_type": "code",
      "source": [
        "idade = 27"
      ],
      "metadata": {
        "id": "L4eSWCGZOnlL"
      },
      "execution_count": 5,
      "outputs": []
    },
    {
      "cell_type": "code",
      "source": [
        "idade"
      ],
      "metadata": {
        "colab": {
          "base_uri": "https://localhost:8080/"
        },
        "id": "lyJXI4zZOwSC",
        "outputId": "75186e66-3c37-4552-be2d-08ec69204ba6"
      },
      "execution_count": 6,
      "outputs": [
        {
          "output_type": "execute_result",
          "data": {
            "text/plain": [
              "27"
            ]
          },
          "metadata": {},
          "execution_count": 6
        }
      ]
    },
    {
      "cell_type": "code",
      "source": [
        "nome"
      ],
      "metadata": {
        "colab": {
          "base_uri": "https://localhost:8080/",
          "height": 35
        },
        "id": "l7XZhFY3Ox2L",
        "outputId": "177ae43d-6a8e-40d2-b05f-a256620f16d5"
      },
      "execution_count": 7,
      "outputs": [
        {
          "output_type": "execute_result",
          "data": {
            "text/plain": [
              "'Alisson'"
            ],
            "application/vnd.google.colaboratory.intrinsic+json": {
              "type": "string"
            }
          },
          "metadata": {},
          "execution_count": 7
        }
      ]
    },
    {
      "cell_type": "code",
      "source": [
        "print (f'Minha idade é {idade}')"
      ],
      "metadata": {
        "colab": {
          "base_uri": "https://localhost:8080/"
        },
        "id": "1lSk5GXAOzYC",
        "outputId": "5c446c57-8f7d-4dac-b6bb-e6f063787b5b"
      },
      "execution_count": 8,
      "outputs": [
        {
          "output_type": "stream",
          "name": "stdout",
          "text": [
            "Minha idade é 27\n"
          ]
        }
      ]
    },
    {
      "cell_type": "markdown",
      "source": [
        "#CRIANDO MINHA PRIMEIRA FUNÇÃO"
      ],
      "metadata": {
        "id": "_DguzfM2Pt-Q"
      }
    },
    {
      "cell_type": "markdown",
      "source": [
        "FUNÇÃO"
      ],
      "metadata": {
        "id": "l6wtx2yIPmzW"
      }
    },
    {
      "cell_type": "code",
      "source": [
        "def saudacao(): \n",
        "  nome = input('Qual seu nome? ')\n",
        "  print(f'Olá {nome}')"
      ],
      "metadata": {
        "id": "SP43l4IZPym7"
      },
      "execution_count": 13,
      "outputs": []
    },
    {
      "cell_type": "code",
      "source": [
        "saudacao()"
      ],
      "metadata": {
        "colab": {
          "base_uri": "https://localhost:8080/"
        },
        "id": "YfvfrIh1RMDc",
        "outputId": "698dc0bc-d34c-4aa2-a7c9-9b1cb28513a7"
      },
      "execution_count": 11,
      "outputs": [
        {
          "output_type": "stream",
          "name": "stdout",
          "text": [
            "Qual seu nome?Alisson\n",
            "Olá Alisson\n"
          ]
        }
      ]
    },
    {
      "cell_type": "code",
      "source": [
        "saudacao()"
      ],
      "metadata": {
        "colab": {
          "base_uri": "https://localhost:8080/"
        },
        "id": "2KqCQYzVRcs6",
        "outputId": "40a2031c-c09e-4603-eb90-ddad0541eb34"
      },
      "execution_count": 14,
      "outputs": [
        {
          "output_type": "stream",
          "name": "stdout",
          "text": [
            "Qual seu nome? Alisson\n",
            "Olá Alisson\n"
          ]
        }
      ]
    },
    {
      "cell_type": "code",
      "source": [
        "saudacao()"
      ],
      "metadata": {
        "colab": {
          "base_uri": "https://localhost:8080/"
        },
        "id": "T859CUIZRl-K",
        "outputId": "63955ddf-d0fa-4ed0-db5b-d7c2db01dc88"
      },
      "execution_count": 15,
      "outputs": [
        {
          "output_type": "stream",
          "name": "stdout",
          "text": [
            "Qual seu nome? odkj\n",
            "Olá odkj\n"
          ]
        }
      ]
    },
    {
      "cell_type": "code",
      "source": [
        ""
      ],
      "metadata": {
        "id": "itd19nVfRqzC"
      },
      "execution_count": null,
      "outputs": []
    },
    {
      "cell_type": "markdown",
      "source": [
        "PARÂMETROS"
      ],
      "metadata": {
        "id": "mqQGhlIvuc_g"
      }
    },
    {
      "cell_type": "code",
      "source": [
        "def saudacao_com_parametro(nome_parametro):\n",
        "  print(f'Olá {nome_parametro}!')"
      ],
      "metadata": {
        "id": "ELLO6ZlYugxs"
      },
      "execution_count": 21,
      "outputs": []
    },
    {
      "cell_type": "code",
      "source": [
        "saudacao_com_parametro(nome)"
      ],
      "metadata": {
        "colab": {
          "base_uri": "https://localhost:8080/"
        },
        "id": "P6QwwIAXuvmc",
        "outputId": "3d2cd244-1988-4f81-a1aa-84e124dc9e4f"
      },
      "execution_count": 33,
      "outputs": [
        {
          "output_type": "stream",
          "name": "stdout",
          "text": [
            "Olá Alisson!\n"
          ]
        }
      ]
    },
    {
      "cell_type": "code",
      "source": [
        ""
      ],
      "metadata": {
        "id": "TBmuYTk5u_Vr"
      },
      "execution_count": null,
      "outputs": []
    },
    {
      "cell_type": "markdown",
      "source": [
        "#CONDICIONAL"
      ],
      "metadata": {
        "id": "5M1Hf94JvdZB"
      }
    },
    {
      "cell_type": "code",
      "source": [
        "idade = 50\n",
        "\n",
        "def verifica_se_pode_dirigir(idade):\n",
        "  if idade >= 18:\n",
        "    print('Tem permissão para dirigir')\n",
        "  else:\n",
        "    print('Não tem permissão para dirigir')\n",
        "\n",
        "verifica_se_pode_dirigir(idade)"
      ],
      "metadata": {
        "colab": {
          "base_uri": "https://localhost:8080/"
        },
        "id": "D2TNiVRPvfsL",
        "outputId": "2195a44b-5132-40d2-f827-b534a3d41b0c"
      },
      "execution_count": 28,
      "outputs": [
        {
          "output_type": "stream",
          "name": "stdout",
          "text": [
            "Tem permissão para dirigir\n"
          ]
        }
      ]
    },
    {
      "cell_type": "code",
      "source": [
        "def verifica_se_pode_dirigir_sem_parametros():\n",
        "  idade = input('Qual sua idade? ')\n",
        "  idade = int(idade)\n",
        "  if idade >= 18:\n",
        "    print('Tem permissão para dirigir')\n",
        "  else:\n",
        "    print('Não tem permissão para dirigir')\n",
        "\n",
        "verifica_se_pode_dirigir_sem_parametros()"
      ],
      "metadata": {
        "colab": {
          "base_uri": "https://localhost:8080/"
        },
        "id": "pnvc3v9qv7S_",
        "outputId": "611a5465-63ff-4fce-eaa0-30cedfbdecdc"
      },
      "execution_count": 32,
      "outputs": [
        {
          "output_type": "stream",
          "name": "stdout",
          "text": [
            "Qual sua idade? 15\n",
            "Não tem permissão para dirigir\n"
          ]
        }
      ]
    },
    {
      "cell_type": "code",
      "source": [
        ""
      ],
      "metadata": {
        "id": "QtEtCJFTwgnl"
      },
      "execution_count": null,
      "outputs": []
    }
  ]
}